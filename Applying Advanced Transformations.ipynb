{
 "cells": [
  {
   "cell_type": "markdown",
   "id": "1475c61f",
   "metadata": {},
   "source": [
    "# Super Hero\n",
    "\n"
   ]
  },
  {
   "cell_type": "code",
   "execution_count": 1,
   "id": "407e4dbc",
   "metadata": {},
   "outputs": [],
   "source": [
    "## Standard Imports\n",
    "import numpy as np\n",
    "import pandas as pd\n",
    "import matplotlib.pyplot as plt\n",
    "import seaborn as sns\n",
    "## Importing the OS and JSON Modules\n",
    "import os,json"
   ]
  },
  {
   "cell_type": "markdown",
   "id": "d6f16171",
   "metadata": {},
   "source": [
    "## Superhero Info"
   ]
  },
  {
   "cell_type": "markdown",
   "id": "0b93b5bc",
   "metadata": {},
   "source": [
    "### Load Dataset"
   ]
  },
  {
   "cell_type": "code",
   "execution_count": 2,
   "id": "aecad51f",
   "metadata": {
    "scrolled": true
   },
   "outputs": [
    {
     "data": {
      "text/html": [
       "<div>\n",
       "<style scoped>\n",
       "    .dataframe tbody tr th:only-of-type {\n",
       "        vertical-align: middle;\n",
       "    }\n",
       "\n",
       "    .dataframe tbody tr th {\n",
       "        vertical-align: top;\n",
       "    }\n",
       "\n",
       "    .dataframe thead th {\n",
       "        text-align: right;\n",
       "    }\n",
       "</style>\n",
       "<table border=\"1\" class=\"dataframe\">\n",
       "  <thead>\n",
       "    <tr style=\"text-align: right;\">\n",
       "      <th></th>\n",
       "      <th>Hero|Publisher</th>\n",
       "      <th>Gender</th>\n",
       "      <th>Race</th>\n",
       "      <th>Alignment</th>\n",
       "      <th>Hair color</th>\n",
       "      <th>Eye color</th>\n",
       "      <th>Skin color</th>\n",
       "      <th>Measurements</th>\n",
       "    </tr>\n",
       "  </thead>\n",
       "  <tbody>\n",
       "    <tr>\n",
       "      <th>0</th>\n",
       "      <td>A-Bomb|Marvel Comics</td>\n",
       "      <td>Male</td>\n",
       "      <td>Human</td>\n",
       "      <td>good</td>\n",
       "      <td>No Hair</td>\n",
       "      <td>yellow</td>\n",
       "      <td>Unknown</td>\n",
       "      <td>{'Height': '203.0 cm', 'Weight': '441.0 kg'}</td>\n",
       "    </tr>\n",
       "    <tr>\n",
       "      <th>1</th>\n",
       "      <td>Abe Sapien|Dark Horse Comics</td>\n",
       "      <td>Male</td>\n",
       "      <td>Icthyo Sapien</td>\n",
       "      <td>good</td>\n",
       "      <td>No Hair</td>\n",
       "      <td>blue</td>\n",
       "      <td>blue</td>\n",
       "      <td>{'Height': '191.0 cm', 'Weight': '65.0 kg'}</td>\n",
       "    </tr>\n",
       "    <tr>\n",
       "      <th>2</th>\n",
       "      <td>Abin Sur|DC Comics</td>\n",
       "      <td>Male</td>\n",
       "      <td>Ungaran</td>\n",
       "      <td>good</td>\n",
       "      <td>No Hair</td>\n",
       "      <td>blue</td>\n",
       "      <td>red</td>\n",
       "      <td>{'Height': '185.0 cm', 'Weight': '90.0 kg'}</td>\n",
       "    </tr>\n",
       "    <tr>\n",
       "      <th>3</th>\n",
       "      <td>Abomination|Marvel Comics</td>\n",
       "      <td>Male</td>\n",
       "      <td>Human / Radiation</td>\n",
       "      <td>bad</td>\n",
       "      <td>No Hair</td>\n",
       "      <td>green</td>\n",
       "      <td>Unknown</td>\n",
       "      <td>{'Height': '203.0 cm', 'Weight': '441.0 kg'}</td>\n",
       "    </tr>\n",
       "    <tr>\n",
       "      <th>4</th>\n",
       "      <td>Absorbing Man|Marvel Comics</td>\n",
       "      <td>Male</td>\n",
       "      <td>Human</td>\n",
       "      <td>bad</td>\n",
       "      <td>No Hair</td>\n",
       "      <td>blue</td>\n",
       "      <td>Unknown</td>\n",
       "      <td>{'Height': '193.0 cm', 'Weight': '122.0 kg'}</td>\n",
       "    </tr>\n",
       "  </tbody>\n",
       "</table>\n",
       "</div>"
      ],
      "text/plain": [
       "                 Hero|Publisher Gender               Race Alignment  \\\n",
       "0          A-Bomb|Marvel Comics   Male              Human      good   \n",
       "1  Abe Sapien|Dark Horse Comics   Male      Icthyo Sapien      good   \n",
       "2            Abin Sur|DC Comics   Male            Ungaran      good   \n",
       "3     Abomination|Marvel Comics   Male  Human / Radiation       bad   \n",
       "4   Absorbing Man|Marvel Comics   Male              Human       bad   \n",
       "\n",
       "  Hair color Eye color Skin color  \\\n",
       "0    No Hair    yellow    Unknown   \n",
       "1    No Hair      blue       blue   \n",
       "2    No Hair      blue        red   \n",
       "3    No Hair     green    Unknown   \n",
       "4    No Hair      blue    Unknown   \n",
       "\n",
       "                                   Measurements  \n",
       "0  {'Height': '203.0 cm', 'Weight': '441.0 kg'}  \n",
       "1   {'Height': '191.0 cm', 'Weight': '65.0 kg'}  \n",
       "2   {'Height': '185.0 cm', 'Weight': '90.0 kg'}  \n",
       "3  {'Height': '203.0 cm', 'Weight': '441.0 kg'}  \n",
       "4  {'Height': '193.0 cm', 'Weight': '122.0 kg'}  "
      ]
     },
     "execution_count": 2,
     "metadata": {},
     "output_type": "execute_result"
    }
   ],
   "source": [
    "info = pd.read_csv('Data/superhero_info - superhero_info.csv')\n",
    "info.head()"
   ]
  },
  {
   "cell_type": "markdown",
   "id": "68e31d9d",
   "metadata": {},
   "source": [
    "### Clean Dataset\n"
   ]
  },
  {
   "cell_type": "code",
   "execution_count": 3,
   "id": "37782307",
   "metadata": {},
   "outputs": [
    {
     "name": "stdout",
     "output_type": "stream",
     "text": [
      "<class 'pandas.core.frame.DataFrame'>\n",
      "RangeIndex: 463 entries, 0 to 462\n",
      "Data columns (total 8 columns):\n",
      " #   Column          Non-Null Count  Dtype \n",
      "---  ------          --------------  ----- \n",
      " 0   Hero|Publisher  463 non-null    object\n",
      " 1   Gender          463 non-null    object\n",
      " 2   Race            463 non-null    object\n",
      " 3   Alignment       463 non-null    object\n",
      " 4   Hair color      463 non-null    object\n",
      " 5   Eye color       463 non-null    object\n",
      " 6   Skin color      463 non-null    object\n",
      " 7   Measurements    463 non-null    object\n",
      "dtypes: object(8)\n",
      "memory usage: 29.1+ KB\n"
     ]
    }
   ],
   "source": [
    "info.info()"
   ]
  },
  {
   "cell_type": "code",
   "execution_count": 4,
   "id": "72e7fea3",
   "metadata": {},
   "outputs": [
    {
     "data": {
      "text/plain": [
       "0"
      ]
     },
     "execution_count": 4,
     "metadata": {},
     "output_type": "execute_result"
    }
   ],
   "source": [
    "info.duplicated().sum()"
   ]
  },
  {
   "cell_type": "code",
   "execution_count": 5,
   "id": "23b54792",
   "metadata": {},
   "outputs": [
    {
     "data": {
      "text/plain": [
       "Hero|Publisher    457\n",
       "Gender              3\n",
       "Race               52\n",
       "Alignment           4\n",
       "Hair color         29\n",
       "Eye color          21\n",
       "Skin color         14\n",
       "Measurements      287\n",
       "dtype: int64"
      ]
     },
     "execution_count": 5,
     "metadata": {},
     "output_type": "execute_result"
    }
   ],
   "source": [
    "info.nunique()"
   ]
  },
  {
   "cell_type": "markdown",
   "id": "8c60b4d8",
   "metadata": {},
   "source": [
    "### Convert entire Measurements column using json.loads"
   ]
  },
  {
   "cell_type": "code",
   "execution_count": 6,
   "id": "0c660252",
   "metadata": {},
   "outputs": [
    {
     "data": {
      "text/plain": [
       "\"{'Height': '191.0 cm', 'Weight': '65.0 kg'}\""
      ]
     },
     "execution_count": 6,
     "metadata": {},
     "output_type": "execute_result"
    }
   ],
   "source": [
    "test_measurement = info.loc[1,'Measurements']\n",
    "test_measurement"
   ]
  },
  {
   "cell_type": "code",
   "execution_count": 7,
   "id": "0f6f9384",
   "metadata": {},
   "outputs": [
    {
     "data": {
      "text/plain": [
       "str"
      ]
     },
     "execution_count": 7,
     "metadata": {},
     "output_type": "execute_result"
    }
   ],
   "source": [
    "type(test_measurement)"
   ]
  },
  {
   "cell_type": "code",
   "execution_count": 8,
   "id": "51564b19",
   "metadata": {},
   "outputs": [
    {
     "data": {
      "text/plain": [
       "'{\"Height\": \"191.0 cm\", \"Weight\": \"65.0 kg\"}'"
      ]
     },
     "execution_count": 8,
     "metadata": {},
     "output_type": "execute_result"
    }
   ],
   "source": [
    "# Replace single quotes with double quotes\n",
    "test_measurement = test_measurement.replace(\"'\", '\"')\n",
    "test_measurement"
   ]
  },
  {
   "cell_type": "code",
   "execution_count": 9,
   "id": "09983bc6",
   "metadata": {},
   "outputs": [
    {
     "data": {
      "text/plain": [
       "{'Height': '191.0 cm', 'Weight': '65.0 kg'}"
      ]
     },
     "execution_count": 9,
     "metadata": {},
     "output_type": "execute_result"
    }
   ],
   "source": [
    "json.loads(test_measurement)"
   ]
  },
  {
   "cell_type": "code",
   "execution_count": 10,
   "id": "7f0d86bb",
   "metadata": {},
   "outputs": [
    {
     "data": {
      "text/plain": [
       "dict"
      ]
     },
     "execution_count": 10,
     "metadata": {},
     "output_type": "execute_result"
    }
   ],
   "source": [
    "type(json.loads(test_measurement))"
   ]
  },
  {
   "cell_type": "code",
   "execution_count": 11,
   "id": "61b95170",
   "metadata": {},
   "outputs": [],
   "source": [
    "# Replace '' with \"\"\n",
    "info['Measurements'] = info['Measurements'].str.replace(\"'\",'\"')\n",
    "\n",
    "#Apply json.loads\n",
    "info['Measurements'] = info['Measurements'].apply(json.loads)"
   ]
  },
  {
   "cell_type": "code",
   "execution_count": 12,
   "id": "d4035f0b",
   "metadata": {},
   "outputs": [
    {
     "data": {
      "text/plain": [
       "{'Height': '191.0 cm', 'Weight': '104.0 kg'}"
      ]
     },
     "execution_count": 12,
     "metadata": {},
     "output_type": "execute_result"
    }
   ],
   "source": [
    "test_measurement = info.loc[7, 'Measurements']\n",
    "test_measurement"
   ]
  },
  {
   "cell_type": "code",
   "execution_count": 13,
   "id": "eb992c2c",
   "metadata": {},
   "outputs": [
    {
     "data": {
      "text/plain": [
       "dict"
      ]
     },
     "execution_count": 13,
     "metadata": {},
     "output_type": "execute_result"
    }
   ],
   "source": [
    "type(test_measurement)"
   ]
  },
  {
   "cell_type": "markdown",
   "id": "7b250b12",
   "metadata": {},
   "source": [
    "### Convert dictionary column into multiple columns"
   ]
  },
  {
   "cell_type": "code",
   "execution_count": 14,
   "id": "af7170d3",
   "metadata": {},
   "outputs": [
    {
     "data": {
      "text/html": [
       "<div>\n",
       "<style scoped>\n",
       "    .dataframe tbody tr th:only-of-type {\n",
       "        vertical-align: middle;\n",
       "    }\n",
       "\n",
       "    .dataframe tbody tr th {\n",
       "        vertical-align: top;\n",
       "    }\n",
       "\n",
       "    .dataframe thead th {\n",
       "        text-align: right;\n",
       "    }\n",
       "</style>\n",
       "<table border=\"1\" class=\"dataframe\">\n",
       "  <thead>\n",
       "    <tr style=\"text-align: right;\">\n",
       "      <th></th>\n",
       "      <th>Height</th>\n",
       "      <th>Weight</th>\n",
       "    </tr>\n",
       "  </thead>\n",
       "  <tbody>\n",
       "    <tr>\n",
       "      <th>0</th>\n",
       "      <td>203.0 cm</td>\n",
       "      <td>441.0 kg</td>\n",
       "    </tr>\n",
       "    <tr>\n",
       "      <th>1</th>\n",
       "      <td>191.0 cm</td>\n",
       "      <td>65.0 kg</td>\n",
       "    </tr>\n",
       "    <tr>\n",
       "      <th>2</th>\n",
       "      <td>185.0 cm</td>\n",
       "      <td>90.0 kg</td>\n",
       "    </tr>\n",
       "    <tr>\n",
       "      <th>3</th>\n",
       "      <td>203.0 cm</td>\n",
       "      <td>441.0 kg</td>\n",
       "    </tr>\n",
       "    <tr>\n",
       "      <th>4</th>\n",
       "      <td>193.0 cm</td>\n",
       "      <td>122.0 kg</td>\n",
       "    </tr>\n",
       "    <tr>\n",
       "      <th>...</th>\n",
       "      <td>...</td>\n",
       "      <td>...</td>\n",
       "    </tr>\n",
       "    <tr>\n",
       "      <th>458</th>\n",
       "      <td>183.0 cm</td>\n",
       "      <td>83.0 kg</td>\n",
       "    </tr>\n",
       "    <tr>\n",
       "      <th>459</th>\n",
       "      <td>165.0 cm</td>\n",
       "      <td>52.0 kg</td>\n",
       "    </tr>\n",
       "    <tr>\n",
       "      <th>460</th>\n",
       "      <td>66.0 cm</td>\n",
       "      <td>17.0 kg</td>\n",
       "    </tr>\n",
       "    <tr>\n",
       "      <th>461</th>\n",
       "      <td>170.0 cm</td>\n",
       "      <td>57.0 kg</td>\n",
       "    </tr>\n",
       "    <tr>\n",
       "      <th>462</th>\n",
       "      <td>185.0 cm</td>\n",
       "      <td>81.0 kg</td>\n",
       "    </tr>\n",
       "  </tbody>\n",
       "</table>\n",
       "<p>463 rows × 2 columns</p>\n",
       "</div>"
      ],
      "text/plain": [
       "       Height    Weight\n",
       "0    203.0 cm  441.0 kg\n",
       "1    191.0 cm   65.0 kg\n",
       "2    185.0 cm   90.0 kg\n",
       "3    203.0 cm  441.0 kg\n",
       "4    193.0 cm  122.0 kg\n",
       "..        ...       ...\n",
       "458  183.0 cm   83.0 kg\n",
       "459  165.0 cm   52.0 kg\n",
       "460   66.0 cm   17.0 kg\n",
       "461  170.0 cm   57.0 kg\n",
       "462  185.0 cm   81.0 kg\n",
       "\n",
       "[463 rows x 2 columns]"
      ]
     },
     "execution_count": 14,
     "metadata": {},
     "output_type": "execute_result"
    }
   ],
   "source": [
    "#Use .apply pd.Series to convert a dict to columns\n",
    "info['Measurements'].apply(pd.Series)"
   ]
  },
  {
   "cell_type": "code",
   "execution_count": 15,
   "id": "a4a55fd4",
   "metadata": {},
   "outputs": [
    {
     "data": {
      "text/html": [
       "<div>\n",
       "<style scoped>\n",
       "    .dataframe tbody tr th:only-of-type {\n",
       "        vertical-align: middle;\n",
       "    }\n",
       "\n",
       "    .dataframe tbody tr th {\n",
       "        vertical-align: top;\n",
       "    }\n",
       "\n",
       "    .dataframe thead th {\n",
       "        text-align: right;\n",
       "    }\n",
       "</style>\n",
       "<table border=\"1\" class=\"dataframe\">\n",
       "  <thead>\n",
       "    <tr style=\"text-align: right;\">\n",
       "      <th></th>\n",
       "      <th>Hero|Publisher</th>\n",
       "      <th>Gender</th>\n",
       "      <th>Race</th>\n",
       "      <th>Alignment</th>\n",
       "      <th>Hair color</th>\n",
       "      <th>Eye color</th>\n",
       "      <th>Skin color</th>\n",
       "      <th>Measurements</th>\n",
       "      <th>Height</th>\n",
       "      <th>Weight</th>\n",
       "    </tr>\n",
       "  </thead>\n",
       "  <tbody>\n",
       "    <tr>\n",
       "      <th>0</th>\n",
       "      <td>A-Bomb|Marvel Comics</td>\n",
       "      <td>Male</td>\n",
       "      <td>Human</td>\n",
       "      <td>good</td>\n",
       "      <td>No Hair</td>\n",
       "      <td>yellow</td>\n",
       "      <td>Unknown</td>\n",
       "      <td>{'Height': '203.0 cm', 'Weight': '441.0 kg'}</td>\n",
       "      <td>203.0 cm</td>\n",
       "      <td>441.0 kg</td>\n",
       "    </tr>\n",
       "    <tr>\n",
       "      <th>1</th>\n",
       "      <td>Abe Sapien|Dark Horse Comics</td>\n",
       "      <td>Male</td>\n",
       "      <td>Icthyo Sapien</td>\n",
       "      <td>good</td>\n",
       "      <td>No Hair</td>\n",
       "      <td>blue</td>\n",
       "      <td>blue</td>\n",
       "      <td>{'Height': '191.0 cm', 'Weight': '65.0 kg'}</td>\n",
       "      <td>191.0 cm</td>\n",
       "      <td>65.0 kg</td>\n",
       "    </tr>\n",
       "  </tbody>\n",
       "</table>\n",
       "</div>"
      ],
      "text/plain": [
       "                 Hero|Publisher Gender           Race Alignment Hair color  \\\n",
       "0          A-Bomb|Marvel Comics   Male          Human      good    No Hair   \n",
       "1  Abe Sapien|Dark Horse Comics   Male  Icthyo Sapien      good    No Hair   \n",
       "\n",
       "  Eye color Skin color                                  Measurements  \\\n",
       "0    yellow    Unknown  {'Height': '203.0 cm', 'Weight': '441.0 kg'}   \n",
       "1      blue       blue   {'Height': '191.0 cm', 'Weight': '65.0 kg'}   \n",
       "\n",
       "     Height    Weight  \n",
       "0  203.0 cm  441.0 kg  \n",
       "1  191.0 cm   65.0 kg  "
      ]
     },
     "execution_count": 15,
     "metadata": {},
     "output_type": "execute_result"
    }
   ],
   "source": [
    "#use pd.concat to concatenate the new columns \n",
    "info = pd.concat([info, info['Measurements'].apply(pd.Series)], axis =1)\n",
    "info.head(2)"
   ]
  },
  {
   "cell_type": "code",
   "execution_count": 16,
   "id": "1b1190c0",
   "metadata": {},
   "outputs": [
    {
     "data": {
      "text/html": [
       "<div>\n",
       "<style scoped>\n",
       "    .dataframe tbody tr th:only-of-type {\n",
       "        vertical-align: middle;\n",
       "    }\n",
       "\n",
       "    .dataframe tbody tr th {\n",
       "        vertical-align: top;\n",
       "    }\n",
       "\n",
       "    .dataframe thead th {\n",
       "        text-align: right;\n",
       "    }\n",
       "</style>\n",
       "<table border=\"1\" class=\"dataframe\">\n",
       "  <thead>\n",
       "    <tr style=\"text-align: right;\">\n",
       "      <th></th>\n",
       "      <th>Hero|Publisher</th>\n",
       "      <th>Gender</th>\n",
       "      <th>Race</th>\n",
       "      <th>Alignment</th>\n",
       "      <th>Hair color</th>\n",
       "      <th>Eye color</th>\n",
       "      <th>Skin color</th>\n",
       "      <th>Height</th>\n",
       "      <th>Weight</th>\n",
       "    </tr>\n",
       "  </thead>\n",
       "  <tbody>\n",
       "    <tr>\n",
       "      <th>0</th>\n",
       "      <td>A-Bomb|Marvel Comics</td>\n",
       "      <td>Male</td>\n",
       "      <td>Human</td>\n",
       "      <td>good</td>\n",
       "      <td>No Hair</td>\n",
       "      <td>yellow</td>\n",
       "      <td>Unknown</td>\n",
       "      <td>203.0 cm</td>\n",
       "      <td>441.0 kg</td>\n",
       "    </tr>\n",
       "    <tr>\n",
       "      <th>1</th>\n",
       "      <td>Abe Sapien|Dark Horse Comics</td>\n",
       "      <td>Male</td>\n",
       "      <td>Icthyo Sapien</td>\n",
       "      <td>good</td>\n",
       "      <td>No Hair</td>\n",
       "      <td>blue</td>\n",
       "      <td>blue</td>\n",
       "      <td>191.0 cm</td>\n",
       "      <td>65.0 kg</td>\n",
       "    </tr>\n",
       "  </tbody>\n",
       "</table>\n",
       "</div>"
      ],
      "text/plain": [
       "                 Hero|Publisher Gender           Race Alignment Hair color  \\\n",
       "0          A-Bomb|Marvel Comics   Male          Human      good    No Hair   \n",
       "1  Abe Sapien|Dark Horse Comics   Male  Icthyo Sapien      good    No Hair   \n",
       "\n",
       "  Eye color Skin color    Height    Weight  \n",
       "0    yellow    Unknown  203.0 cm  441.0 kg  \n",
       "1      blue       blue  191.0 cm   65.0 kg  "
      ]
     },
     "execution_count": 16,
     "metadata": {},
     "output_type": "execute_result"
    }
   ],
   "source": [
    "#drop the original column- Measurements\n",
    "info = info.drop(columns = 'Measurements')\n",
    "info.head(2)"
   ]
  },
  {
   "cell_type": "code",
   "execution_count": 17,
   "id": "c469abb7",
   "metadata": {},
   "outputs": [
    {
     "data": {
      "text/plain": [
       "0            A-Bomb|Marvel Comics\n",
       "1    Abe Sapien|Dark Horse Comics\n",
       "2              Abin Sur|DC Comics\n",
       "3       Abomination|Marvel Comics\n",
       "4     Absorbing Man|Marvel Comics\n",
       "Name: Hero|Publisher, dtype: object"
      ]
     },
     "execution_count": 17,
     "metadata": {},
     "output_type": "execute_result"
    }
   ],
   "source": [
    "info['Hero|Publisher'].head()"
   ]
  },
  {
   "cell_type": "code",
   "execution_count": 18,
   "id": "265f3d99",
   "metadata": {},
   "outputs": [
    {
     "data": {
      "text/plain": [
       "'Abe Sapien|Dark Horse Comics'"
      ]
     },
     "execution_count": 18,
     "metadata": {},
     "output_type": "execute_result"
    }
   ],
   "source": [
    "test_heropub = info.loc[1, 'Hero|Publisher']\n",
    "test_heropub"
   ]
  },
  {
   "cell_type": "code",
   "execution_count": 19,
   "id": "3a8ab7ed",
   "metadata": {},
   "outputs": [],
   "source": [
    "info['Hero'] = info['Hero|Publisher'].apply(lambda x: x.split('|')[0])\n",
    "info['Publisher'] = info['Hero|Publisher'].apply(lambda x: x.split('|')[1])\n"
   ]
  },
  {
   "cell_type": "code",
   "execution_count": 20,
   "id": "8c7deec3",
   "metadata": {},
   "outputs": [
    {
     "data": {
      "text/html": [
       "<div>\n",
       "<style scoped>\n",
       "    .dataframe tbody tr th:only-of-type {\n",
       "        vertical-align: middle;\n",
       "    }\n",
       "\n",
       "    .dataframe tbody tr th {\n",
       "        vertical-align: top;\n",
       "    }\n",
       "\n",
       "    .dataframe thead th {\n",
       "        text-align: right;\n",
       "    }\n",
       "</style>\n",
       "<table border=\"1\" class=\"dataframe\">\n",
       "  <thead>\n",
       "    <tr style=\"text-align: right;\">\n",
       "      <th></th>\n",
       "      <th>Hero|Publisher</th>\n",
       "      <th>Gender</th>\n",
       "      <th>Race</th>\n",
       "      <th>Alignment</th>\n",
       "      <th>Hair color</th>\n",
       "      <th>Eye color</th>\n",
       "      <th>Skin color</th>\n",
       "      <th>Height</th>\n",
       "      <th>Weight</th>\n",
       "      <th>Hero</th>\n",
       "      <th>Publisher</th>\n",
       "    </tr>\n",
       "  </thead>\n",
       "  <tbody>\n",
       "    <tr>\n",
       "      <th>0</th>\n",
       "      <td>A-Bomb|Marvel Comics</td>\n",
       "      <td>Male</td>\n",
       "      <td>Human</td>\n",
       "      <td>good</td>\n",
       "      <td>No Hair</td>\n",
       "      <td>yellow</td>\n",
       "      <td>Unknown</td>\n",
       "      <td>203.0 cm</td>\n",
       "      <td>441.0 kg</td>\n",
       "      <td>A-Bomb</td>\n",
       "      <td>Marvel Comics</td>\n",
       "    </tr>\n",
       "    <tr>\n",
       "      <th>1</th>\n",
       "      <td>Abe Sapien|Dark Horse Comics</td>\n",
       "      <td>Male</td>\n",
       "      <td>Icthyo Sapien</td>\n",
       "      <td>good</td>\n",
       "      <td>No Hair</td>\n",
       "      <td>blue</td>\n",
       "      <td>blue</td>\n",
       "      <td>191.0 cm</td>\n",
       "      <td>65.0 kg</td>\n",
       "      <td>Abe Sapien</td>\n",
       "      <td>Dark Horse Comics</td>\n",
       "    </tr>\n",
       "  </tbody>\n",
       "</table>\n",
       "</div>"
      ],
      "text/plain": [
       "                 Hero|Publisher Gender           Race Alignment Hair color  \\\n",
       "0          A-Bomb|Marvel Comics   Male          Human      good    No Hair   \n",
       "1  Abe Sapien|Dark Horse Comics   Male  Icthyo Sapien      good    No Hair   \n",
       "\n",
       "  Eye color Skin color    Height    Weight        Hero          Publisher  \n",
       "0    yellow    Unknown  203.0 cm  441.0 kg      A-Bomb      Marvel Comics  \n",
       "1      blue       blue  191.0 cm   65.0 kg  Abe Sapien  Dark Horse Comics  "
      ]
     },
     "execution_count": 20,
     "metadata": {},
     "output_type": "execute_result"
    }
   ],
   "source": [
    "info.head(2)"
   ]
  },
  {
   "cell_type": "code",
   "execution_count": 21,
   "id": "db29aa70",
   "metadata": {},
   "outputs": [
    {
     "data": {
      "text/html": [
       "<div>\n",
       "<style scoped>\n",
       "    .dataframe tbody tr th:only-of-type {\n",
       "        vertical-align: middle;\n",
       "    }\n",
       "\n",
       "    .dataframe tbody tr th {\n",
       "        vertical-align: top;\n",
       "    }\n",
       "\n",
       "    .dataframe thead th {\n",
       "        text-align: right;\n",
       "    }\n",
       "</style>\n",
       "<table border=\"1\" class=\"dataframe\">\n",
       "  <thead>\n",
       "    <tr style=\"text-align: right;\">\n",
       "      <th></th>\n",
       "      <th>Gender</th>\n",
       "      <th>Race</th>\n",
       "      <th>Alignment</th>\n",
       "      <th>Hair color</th>\n",
       "      <th>Eye color</th>\n",
       "      <th>Skin color</th>\n",
       "      <th>Height</th>\n",
       "      <th>Weight</th>\n",
       "      <th>Hero</th>\n",
       "      <th>Publisher</th>\n",
       "    </tr>\n",
       "  </thead>\n",
       "  <tbody>\n",
       "    <tr>\n",
       "      <th>0</th>\n",
       "      <td>Male</td>\n",
       "      <td>Human</td>\n",
       "      <td>good</td>\n",
       "      <td>No Hair</td>\n",
       "      <td>yellow</td>\n",
       "      <td>Unknown</td>\n",
       "      <td>203.0 cm</td>\n",
       "      <td>441.0 kg</td>\n",
       "      <td>A-Bomb</td>\n",
       "      <td>Marvel Comics</td>\n",
       "    </tr>\n",
       "    <tr>\n",
       "      <th>1</th>\n",
       "      <td>Male</td>\n",
       "      <td>Icthyo Sapien</td>\n",
       "      <td>good</td>\n",
       "      <td>No Hair</td>\n",
       "      <td>blue</td>\n",
       "      <td>blue</td>\n",
       "      <td>191.0 cm</td>\n",
       "      <td>65.0 kg</td>\n",
       "      <td>Abe Sapien</td>\n",
       "      <td>Dark Horse Comics</td>\n",
       "    </tr>\n",
       "  </tbody>\n",
       "</table>\n",
       "</div>"
      ],
      "text/plain": [
       "  Gender           Race Alignment Hair color Eye color Skin color    Height  \\\n",
       "0   Male          Human      good    No Hair    yellow    Unknown  203.0 cm   \n",
       "1   Male  Icthyo Sapien      good    No Hair      blue       blue  191.0 cm   \n",
       "\n",
       "     Weight        Hero          Publisher  \n",
       "0  441.0 kg      A-Bomb      Marvel Comics  \n",
       "1   65.0 kg  Abe Sapien  Dark Horse Comics  "
      ]
     },
     "execution_count": 21,
     "metadata": {},
     "output_type": "execute_result"
    }
   ],
   "source": [
    "#drop the original column- Hero|Publisher\n",
    "info = info.drop(columns = 'Hero|Publisher')\n",
    "info.head(2)"
   ]
  },
  {
   "cell_type": "code",
   "execution_count": 22,
   "id": "89c70800",
   "metadata": {},
   "outputs": [],
   "source": [
    "info = info.reindex(columns=['Hero', 'Publisher'] + list(info.columns[:-2]))"
   ]
  },
  {
   "cell_type": "code",
   "execution_count": 23,
   "id": "be59c52d",
   "metadata": {},
   "outputs": [
    {
     "data": {
      "text/html": [
       "<div>\n",
       "<style scoped>\n",
       "    .dataframe tbody tr th:only-of-type {\n",
       "        vertical-align: middle;\n",
       "    }\n",
       "\n",
       "    .dataframe tbody tr th {\n",
       "        vertical-align: top;\n",
       "    }\n",
       "\n",
       "    .dataframe thead th {\n",
       "        text-align: right;\n",
       "    }\n",
       "</style>\n",
       "<table border=\"1\" class=\"dataframe\">\n",
       "  <thead>\n",
       "    <tr style=\"text-align: right;\">\n",
       "      <th></th>\n",
       "      <th>Hero</th>\n",
       "      <th>Publisher</th>\n",
       "      <th>Gender</th>\n",
       "      <th>Race</th>\n",
       "      <th>Alignment</th>\n",
       "      <th>Hair color</th>\n",
       "      <th>Eye color</th>\n",
       "      <th>Skin color</th>\n",
       "      <th>Height</th>\n",
       "      <th>Weight</th>\n",
       "    </tr>\n",
       "  </thead>\n",
       "  <tbody>\n",
       "    <tr>\n",
       "      <th>0</th>\n",
       "      <td>A-Bomb</td>\n",
       "      <td>Marvel Comics</td>\n",
       "      <td>Male</td>\n",
       "      <td>Human</td>\n",
       "      <td>good</td>\n",
       "      <td>No Hair</td>\n",
       "      <td>yellow</td>\n",
       "      <td>Unknown</td>\n",
       "      <td>203.0 cm</td>\n",
       "      <td>441.0 kg</td>\n",
       "    </tr>\n",
       "    <tr>\n",
       "      <th>1</th>\n",
       "      <td>Abe Sapien</td>\n",
       "      <td>Dark Horse Comics</td>\n",
       "      <td>Male</td>\n",
       "      <td>Icthyo Sapien</td>\n",
       "      <td>good</td>\n",
       "      <td>No Hair</td>\n",
       "      <td>blue</td>\n",
       "      <td>blue</td>\n",
       "      <td>191.0 cm</td>\n",
       "      <td>65.0 kg</td>\n",
       "    </tr>\n",
       "  </tbody>\n",
       "</table>\n",
       "</div>"
      ],
      "text/plain": [
       "         Hero          Publisher Gender           Race Alignment Hair color  \\\n",
       "0      A-Bomb      Marvel Comics   Male          Human      good    No Hair   \n",
       "1  Abe Sapien  Dark Horse Comics   Male  Icthyo Sapien      good    No Hair   \n",
       "\n",
       "  Eye color Skin color    Height    Weight  \n",
       "0    yellow    Unknown  203.0 cm  441.0 kg  \n",
       "1      blue       blue  191.0 cm   65.0 kg  "
      ]
     },
     "execution_count": 23,
     "metadata": {},
     "output_type": "execute_result"
    }
   ],
   "source": [
    "info.head(2)"
   ]
  },
  {
   "cell_type": "code",
   "execution_count": 24,
   "id": "cf6f3145",
   "metadata": {},
   "outputs": [
    {
     "data": {
      "text/plain": [
       "Index(['Hero', 'Publisher', 'Gender', 'Race', 'Alignment', 'Hair color',\n",
       "       'Eye color', 'Skin color', 'Height', 'Weight'],\n",
       "      dtype='object')"
      ]
     },
     "execution_count": 24,
     "metadata": {},
     "output_type": "execute_result"
    }
   ],
   "source": [
    "# save list of categorical column name.\n",
    "categorical_col = info.select_dtypes('object').columns\n",
    "categorical_col"
   ]
  },
  {
   "cell_type": "code",
   "execution_count": 25,
   "id": "81e5caba",
   "metadata": {},
   "outputs": [
    {
     "name": "stdout",
     "output_type": "stream",
     "text": [
      "Value Counts for Hero\n",
      "Spider-Man        3\n",
      "Black Canary      2\n",
      "Nova              2\n",
      "Captain Marvel    2\n",
      "Toxin             2\n",
      "                 ..\n",
      "Feral             1\n",
      "Falcon            1\n",
      "Fabian Cortez     1\n",
      "Exodus            1\n",
      "Zoom              1\n",
      "Name: Hero, Length: 455, dtype: int64\n",
      "\n",
      "\n",
      "Value Counts for Publisher\n",
      "Marvel Comics        297\n",
      "DC Comics            138\n",
      "Dark Horse Comics     11\n",
      "George Lucas           5\n",
      "Team Epic TV           4\n",
      "Shueisha               4\n",
      "Star Trek              2\n",
      "Unknown                1\n",
      "Image Comics           1\n",
      "Name: Publisher, dtype: int64\n",
      "\n",
      "\n",
      "Value Counts for Gender\n",
      "Male       321\n",
      "Female     134\n",
      "Unknown      8\n",
      "Name: Gender, dtype: int64\n",
      "\n",
      "\n",
      "Value Counts for Race\n",
      "Human                156\n",
      "Unknown              145\n",
      "Mutant                51\n",
      "Human / Radiation     11\n",
      "Android                7\n",
      "Symbiote               7\n",
      "Alien                  6\n",
      "Demon                  6\n",
      "Cyborg                 6\n",
      "Kryptonian             5\n",
      "Atlantean              5\n",
      "Asgardian              5\n",
      "Inhuman                4\n",
      "New God                3\n",
      "Human-Kree             2\n",
      "Eternal                2\n",
      "Demi-God               2\n",
      "Saiyan                 2\n",
      "Amazon                 2\n",
      "Human / Altered        2\n",
      "Metahuman              2\n",
      "God / Eternal          2\n",
      "Human-Vulcan           1\n",
      "Martian                1\n",
      "Zombie                 1\n",
      "Korugaran              1\n",
      "Talokite               1\n",
      "Clone                  1\n",
      "Human-Spartoi          1\n",
      "Animal                 1\n",
      "Yautja                 1\n",
      "Human / Cosmic         1\n",
      "Tamaranean             1\n",
      "Mutant / Clone         1\n",
      "Luphomoid              1\n",
      "Frost Giant            1\n",
      "Strontian              1\n",
      "Czarnian               1\n",
      "Bolovaxian             1\n",
      "Human-Vuldarian        1\n",
      "Flora Colossus         1\n",
      "Gorilla                1\n",
      "Icthyo Sapien          1\n",
      "Zen-Whoberian          1\n",
      "Cosmic Entity          1\n",
      "Kakarantharaian        1\n",
      "Vampire                1\n",
      "Bizarro                1\n",
      "Neyaphem               1\n",
      "Xenomorph XX121        1\n",
      "Ungaran                1\n",
      "Yoda's species         1\n",
      "Name: Race, dtype: int64\n",
      "\n",
      "\n",
      "Value Counts for Alignment\n",
      "good       311\n",
      "bad        132\n",
      "neutral     17\n",
      "Unknown      3\n",
      "Name: Alignment, dtype: int64\n",
      "\n",
      "\n",
      "Value Counts for Hair color\n",
      "Black               127\n",
      "Blond                74\n",
      "Brown                69\n",
      "No Hair              52\n",
      "Red                  41\n",
      "White                22\n",
      "Unknown              18\n",
      "Auburn               13\n",
      "Green                 6\n",
      "Strawberry Blond      5\n",
      "Purple                4\n",
      "Brown / White         4\n",
      "Grey                  4\n",
      "black                 3\n",
      "blond                 3\n",
      "Silver                3\n",
      "Blue                  2\n",
      "Orange                2\n",
      "Pink                  1\n",
      "Gold                  1\n",
      "Red / White           1\n",
      "Indigo                1\n",
      "Red / Orange          1\n",
      "Red / Grey            1\n",
      "Brownn                1\n",
      "Yellow                1\n",
      "Orange / White        1\n",
      "Magenta               1\n",
      "Black / Blue          1\n",
      "Name: Hair color, dtype: int64\n",
      "\n",
      "\n",
      "Value Counts for Eye color\n",
      "blue                       182\n",
      "brown                      102\n",
      "green                       61\n",
      "red                         38\n",
      "Unknown                     17\n",
      "yellow                      13\n",
      "black                       12\n",
      "white                       10\n",
      "grey                         5\n",
      "hazel                        5\n",
      "gold                         3\n",
      "purple                       3\n",
      "yellow (without irises)      2\n",
      "amber                        2\n",
      "violet                       2\n",
      "white / red                  1\n",
      "indigo                       1\n",
      "silver                       1\n",
      "green / blue                 1\n",
      "blue / white                 1\n",
      "yellow / blue                1\n",
      "Name: Eye color, dtype: int64\n",
      "\n",
      "\n",
      "Value Counts for Skin color\n",
      "Unknown       409\n",
      "green          15\n",
      "blue            7\n",
      "red             7\n",
      "white           5\n",
      "grey            4\n",
      "silver          4\n",
      "purple          3\n",
      "gold            2\n",
      "pink            2\n",
      "yellow          2\n",
      "black           1\n",
      "blue-white      1\n",
      "orange          1\n",
      "Name: Skin color, dtype: int64\n",
      "\n",
      "\n",
      "Value Counts for Height\n",
      "183.0 cm    53\n",
      "188.0 cm    44\n",
      "180.0 cm    37\n",
      "185.0 cm    34\n",
      "178.0 cm    33\n",
      "175.0 cm    32\n",
      "168.0 cm    27\n",
      "165.0 cm    26\n",
      "170.0 cm    19\n",
      "193.0 cm    18\n",
      "191.0 cm    18\n",
      "198.0 cm    18\n",
      "173.0 cm    16\n",
      "196.0 cm    10\n",
      "201.0 cm    10\n",
      "163.0 cm     8\n",
      "203.0 cm     5\n",
      "157.0 cm     5\n",
      "213.0 cm     5\n",
      "211.0 cm     4\n",
      "244.0 cm     4\n",
      "218.0 cm     3\n",
      "155.0 cm     3\n",
      "229.0 cm     3\n",
      "137.0 cm     2\n",
      "366.0 cm     2\n",
      "206.0 cm     2\n",
      "305.0 cm     2\n",
      "122.0 cm     2\n",
      "226.0 cm     2\n",
      "279.0 cm     1\n",
      "234.0 cm     1\n",
      "15.2 cm      1\n",
      "160.0 cm     1\n",
      "64.0 cm      1\n",
      "259.0 cm     1\n",
      "287.0 cm     1\n",
      "71.0 cm      1\n",
      "701.0 cm     1\n",
      "62.5 cm      1\n",
      "876.0 cm     1\n",
      "142.0 cm     1\n",
      "975.0 cm     1\n",
      "267.0 cm     1\n",
      "257.0 cm     1\n",
      "66.0 cm      1\n",
      "Name: Height, dtype: int64\n",
      "\n",
      "\n",
      "Value Counts for Weight\n",
      "81.0 kg     22\n",
      "79.0 kg     21\n",
      "54.0 kg     20\n",
      "90.0 kg     19\n",
      "86.0 kg     15\n",
      "            ..\n",
      "268.0 kg     1\n",
      "16.0 kg      1\n",
      "167.0 kg     1\n",
      "45.0 kg      1\n",
      "17.0 kg      1\n",
      "Name: Weight, Length: 128, dtype: int64\n",
      "\n",
      "\n"
     ]
    }
   ],
   "source": [
    "# Check for nunique for categorical columns\n",
    "for col in categorical_col:\n",
    "  print(f'Value Counts for {col}')\n",
    "  print(info[col].value_counts())\n",
    "  print('\\n')"
   ]
  },
  {
   "cell_type": "code",
   "execution_count": 26,
   "id": "997aa561",
   "metadata": {
    "scrolled": true
   },
   "outputs": [
    {
     "data": {
      "text/plain": [
       "Black               127\n",
       "Blond                77\n",
       "Brown                70\n",
       "No Hair              52\n",
       "Red                  41\n",
       "White                22\n",
       "Unknown              18\n",
       "Auburn               13\n",
       "Green                 6\n",
       "Strawberry Blond      5\n",
       "Brown / White         4\n",
       "Purple                4\n",
       "Grey                  4\n",
       "Silver                3\n",
       "black                 3\n",
       "Blue                  2\n",
       "Orange                2\n",
       "Magenta               1\n",
       "Pink                  1\n",
       "Red / Grey            1\n",
       "Orange / White        1\n",
       "Yellow                1\n",
       "Gold                  1\n",
       "Red / Orange          1\n",
       "Indigo                1\n",
       "Red / White           1\n",
       "Black / Blue          1\n",
       "Name: Hair color, dtype: int64"
      ]
     },
     "execution_count": 26,
     "metadata": {},
     "output_type": "execute_result"
    }
   ],
   "source": [
    "# Hair color- fix the values\n",
    "info['Hair color'] = info['Hair color'].replace(['blond'], 'Blond')\n",
    "info['Hair color'] = info['Hair color'].replace('Brownn' , 'Brown')\n",
    "info['Hair color'].value_counts()"
   ]
  },
  {
   "cell_type": "code",
   "execution_count": 27,
   "id": "46f0d78e",
   "metadata": {},
   "outputs": [],
   "source": [
    "info['Height'] = info['Height'].str.replace(\" cm\", \"\")"
   ]
  },
  {
   "cell_type": "code",
   "execution_count": 28,
   "id": "51a289dc",
   "metadata": {},
   "outputs": [],
   "source": [
    "info['Height'] = info['Height'].astype(float)"
   ]
  },
  {
   "cell_type": "code",
   "execution_count": 29,
   "id": "f4f63669",
   "metadata": {},
   "outputs": [],
   "source": [
    "info['Weight'] = info['Weight'].str.replace(\" kg\", \"\")"
   ]
  },
  {
   "cell_type": "code",
   "execution_count": 30,
   "id": "98c4b606",
   "metadata": {},
   "outputs": [],
   "source": [
    "info['Weight'] = info['Weight'].astype(float)"
   ]
  },
  {
   "cell_type": "code",
   "execution_count": 31,
   "id": "99e406ca",
   "metadata": {},
   "outputs": [
    {
     "name": "stdout",
     "output_type": "stream",
     "text": [
      "<class 'pandas.core.frame.DataFrame'>\n",
      "RangeIndex: 463 entries, 0 to 462\n",
      "Data columns (total 10 columns):\n",
      " #   Column      Non-Null Count  Dtype  \n",
      "---  ------      --------------  -----  \n",
      " 0   Hero        463 non-null    object \n",
      " 1   Publisher   463 non-null    object \n",
      " 2   Gender      463 non-null    object \n",
      " 3   Race        463 non-null    object \n",
      " 4   Alignment   463 non-null    object \n",
      " 5   Hair color  463 non-null    object \n",
      " 6   Eye color   463 non-null    object \n",
      " 7   Skin color  463 non-null    object \n",
      " 8   Height      463 non-null    float64\n",
      " 9   Weight      463 non-null    float64\n",
      "dtypes: float64(2), object(8)\n",
      "memory usage: 36.3+ KB\n"
     ]
    }
   ],
   "source": [
    "info.info()"
   ]
  },
  {
   "cell_type": "markdown",
   "id": "d0d30a39",
   "metadata": {},
   "source": [
    "## Superhero Powers"
   ]
  },
  {
   "cell_type": "markdown",
   "id": "e3aa3061",
   "metadata": {},
   "source": [
    "### Load Dataset"
   ]
  },
  {
   "cell_type": "code",
   "execution_count": 32,
   "id": "d6282941",
   "metadata": {
    "scrolled": true
   },
   "outputs": [
    {
     "data": {
      "text/html": [
       "<div>\n",
       "<style scoped>\n",
       "    .dataframe tbody tr th:only-of-type {\n",
       "        vertical-align: middle;\n",
       "    }\n",
       "\n",
       "    .dataframe tbody tr th {\n",
       "        vertical-align: top;\n",
       "    }\n",
       "\n",
       "    .dataframe thead th {\n",
       "        text-align: right;\n",
       "    }\n",
       "</style>\n",
       "<table border=\"1\" class=\"dataframe\">\n",
       "  <thead>\n",
       "    <tr style=\"text-align: right;\">\n",
       "      <th></th>\n",
       "      <th>hero_names</th>\n",
       "      <th>Powers</th>\n",
       "    </tr>\n",
       "  </thead>\n",
       "  <tbody>\n",
       "    <tr>\n",
       "      <th>0</th>\n",
       "      <td>3-D Man</td>\n",
       "      <td>Agility,Super Strength,Stamina,Super Speed</td>\n",
       "    </tr>\n",
       "    <tr>\n",
       "      <th>1</th>\n",
       "      <td>A-Bomb</td>\n",
       "      <td>Accelerated Healing,Durability,Longevity,Super...</td>\n",
       "    </tr>\n",
       "    <tr>\n",
       "      <th>2</th>\n",
       "      <td>Abe Sapien</td>\n",
       "      <td>Agility,Accelerated Healing,Cold Resistance,Du...</td>\n",
       "    </tr>\n",
       "    <tr>\n",
       "      <th>3</th>\n",
       "      <td>Abin Sur</td>\n",
       "      <td>Lantern Power Ring</td>\n",
       "    </tr>\n",
       "    <tr>\n",
       "      <th>4</th>\n",
       "      <td>Abomination</td>\n",
       "      <td>Accelerated Healing,Intelligence,Super Strengt...</td>\n",
       "    </tr>\n",
       "  </tbody>\n",
       "</table>\n",
       "</div>"
      ],
      "text/plain": [
       "    hero_names                                             Powers\n",
       "0      3-D Man         Agility,Super Strength,Stamina,Super Speed\n",
       "1       A-Bomb  Accelerated Healing,Durability,Longevity,Super...\n",
       "2   Abe Sapien  Agility,Accelerated Healing,Cold Resistance,Du...\n",
       "3     Abin Sur                                 Lantern Power Ring\n",
       "4  Abomination  Accelerated Healing,Intelligence,Super Strengt..."
      ]
     },
     "execution_count": 32,
     "metadata": {},
     "output_type": "execute_result"
    }
   ],
   "source": [
    "powers = pd.read_csv('Data/superhero_powers - superhero_powers.csv')\n",
    "powers.head()"
   ]
  },
  {
   "cell_type": "markdown",
   "id": "b3e9ce25",
   "metadata": {},
   "source": [
    "### Clean Dataset\n"
   ]
  },
  {
   "cell_type": "code",
   "execution_count": 33,
   "id": "9aabfdac",
   "metadata": {
    "scrolled": true
   },
   "outputs": [
    {
     "name": "stdout",
     "output_type": "stream",
     "text": [
      "<class 'pandas.core.frame.DataFrame'>\n",
      "RangeIndex: 667 entries, 0 to 666\n",
      "Data columns (total 2 columns):\n",
      " #   Column      Non-Null Count  Dtype \n",
      "---  ------      --------------  ----- \n",
      " 0   hero_names  667 non-null    object\n",
      " 1   Powers      667 non-null    object\n",
      "dtypes: object(2)\n",
      "memory usage: 10.5+ KB\n"
     ]
    }
   ],
   "source": [
    "powers.info()"
   ]
  },
  {
   "cell_type": "code",
   "execution_count": 34,
   "id": "1c8b5057",
   "metadata": {},
   "outputs": [
    {
     "data": {
      "text/plain": [
       "0           Agility,Super Strength,Stamina,Super Speed\n",
       "1    Accelerated Healing,Durability,Longevity,Super...\n",
       "2    Agility,Accelerated Healing,Cold Resistance,Du...\n",
       "3                                   Lantern Power Ring\n",
       "4    Accelerated Healing,Intelligence,Super Strengt...\n",
       "Name: Powers, dtype: object"
      ]
     },
     "execution_count": 34,
     "metadata": {},
     "output_type": "execute_result"
    }
   ],
   "source": [
    "powers['Powers'].head()"
   ]
  },
  {
   "cell_type": "code",
   "execution_count": 35,
   "id": "f9d91685",
   "metadata": {},
   "outputs": [],
   "source": [
    "#Convert str to list by replacing '' to \"\"\n",
    "powers['Powers'] = powers['Powers'].str.split(',')\n",
    "powers = powers.explode('Powers')"
   ]
  },
  {
   "cell_type": "code",
   "execution_count": 36,
   "id": "53d471e2",
   "metadata": {},
   "outputs": [],
   "source": [
    "powers.rename(columns={'hero_names': 'Hero'}, inplace=True)"
   ]
  },
  {
   "cell_type": "code",
   "execution_count": 37,
   "id": "5bd1330a",
   "metadata": {},
   "outputs": [
    {
     "data": {
      "text/html": [
       "<div>\n",
       "<style scoped>\n",
       "    .dataframe tbody tr th:only-of-type {\n",
       "        vertical-align: middle;\n",
       "    }\n",
       "\n",
       "    .dataframe tbody tr th {\n",
       "        vertical-align: top;\n",
       "    }\n",
       "\n",
       "    .dataframe thead th {\n",
       "        text-align: right;\n",
       "    }\n",
       "</style>\n",
       "<table border=\"1\" class=\"dataframe\">\n",
       "  <thead>\n",
       "    <tr style=\"text-align: right;\">\n",
       "      <th></th>\n",
       "      <th>Hero</th>\n",
       "      <th>Powers</th>\n",
       "    </tr>\n",
       "  </thead>\n",
       "  <tbody>\n",
       "    <tr>\n",
       "      <th>0</th>\n",
       "      <td>3-D Man</td>\n",
       "      <td>Agility</td>\n",
       "    </tr>\n",
       "    <tr>\n",
       "      <th>0</th>\n",
       "      <td>3-D Man</td>\n",
       "      <td>Super Strength</td>\n",
       "    </tr>\n",
       "    <tr>\n",
       "      <th>0</th>\n",
       "      <td>3-D Man</td>\n",
       "      <td>Stamina</td>\n",
       "    </tr>\n",
       "    <tr>\n",
       "      <th>0</th>\n",
       "      <td>3-D Man</td>\n",
       "      <td>Super Speed</td>\n",
       "    </tr>\n",
       "    <tr>\n",
       "      <th>1</th>\n",
       "      <td>A-Bomb</td>\n",
       "      <td>Accelerated Healing</td>\n",
       "    </tr>\n",
       "  </tbody>\n",
       "</table>\n",
       "</div>"
      ],
      "text/plain": [
       "      Hero               Powers\n",
       "0  3-D Man              Agility\n",
       "0  3-D Man       Super Strength\n",
       "0  3-D Man              Stamina\n",
       "0  3-D Man          Super Speed\n",
       "1   A-Bomb  Accelerated Healing"
      ]
     },
     "execution_count": 37,
     "metadata": {},
     "output_type": "execute_result"
    }
   ],
   "source": [
    "powers.head()"
   ]
  },
  {
   "cell_type": "code",
   "execution_count": 38,
   "id": "ccf306d4",
   "metadata": {},
   "outputs": [
    {
     "name": "stdout",
     "output_type": "stream",
     "text": [
      "<class 'pandas.core.frame.DataFrame'>\n",
      "Int64Index: 5874 entries, 0 to 666\n",
      "Data columns (total 2 columns):\n",
      " #   Column  Non-Null Count  Dtype \n",
      "---  ------  --------------  ----- \n",
      " 0   Hero    5874 non-null   object\n",
      " 1   Powers  5874 non-null   object\n",
      "dtypes: object(2)\n",
      "memory usage: 137.7+ KB\n"
     ]
    }
   ],
   "source": [
    "powers.info()"
   ]
  },
  {
   "cell_type": "code",
   "execution_count": 39,
   "id": "9f669174",
   "metadata": {},
   "outputs": [
    {
     "data": {
      "text/html": [
       "<div>\n",
       "<style scoped>\n",
       "    .dataframe tbody tr th:only-of-type {\n",
       "        vertical-align: middle;\n",
       "    }\n",
       "\n",
       "    .dataframe tbody tr th {\n",
       "        vertical-align: top;\n",
       "    }\n",
       "\n",
       "    .dataframe thead th {\n",
       "        text-align: right;\n",
       "    }\n",
       "</style>\n",
       "<table border=\"1\" class=\"dataframe\">\n",
       "  <thead>\n",
       "    <tr style=\"text-align: right;\">\n",
       "      <th></th>\n",
       "      <th>Hero</th>\n",
       "      <th>Publisher</th>\n",
       "      <th>Gender</th>\n",
       "      <th>Race</th>\n",
       "      <th>Alignment</th>\n",
       "      <th>Hair color</th>\n",
       "      <th>Eye color</th>\n",
       "      <th>Skin color</th>\n",
       "      <th>Height</th>\n",
       "      <th>Weight</th>\n",
       "      <th>Powers</th>\n",
       "    </tr>\n",
       "  </thead>\n",
       "  <tbody>\n",
       "    <tr>\n",
       "      <th>0</th>\n",
       "      <td>A-Bomb</td>\n",
       "      <td>Marvel Comics</td>\n",
       "      <td>Male</td>\n",
       "      <td>Human</td>\n",
       "      <td>good</td>\n",
       "      <td>No Hair</td>\n",
       "      <td>yellow</td>\n",
       "      <td>Unknown</td>\n",
       "      <td>203.0</td>\n",
       "      <td>441.0</td>\n",
       "      <td>Accelerated Healing</td>\n",
       "    </tr>\n",
       "    <tr>\n",
       "      <th>1</th>\n",
       "      <td>A-Bomb</td>\n",
       "      <td>Marvel Comics</td>\n",
       "      <td>Male</td>\n",
       "      <td>Human</td>\n",
       "      <td>good</td>\n",
       "      <td>No Hair</td>\n",
       "      <td>yellow</td>\n",
       "      <td>Unknown</td>\n",
       "      <td>203.0</td>\n",
       "      <td>441.0</td>\n",
       "      <td>Durability</td>\n",
       "    </tr>\n",
       "    <tr>\n",
       "      <th>2</th>\n",
       "      <td>A-Bomb</td>\n",
       "      <td>Marvel Comics</td>\n",
       "      <td>Male</td>\n",
       "      <td>Human</td>\n",
       "      <td>good</td>\n",
       "      <td>No Hair</td>\n",
       "      <td>yellow</td>\n",
       "      <td>Unknown</td>\n",
       "      <td>203.0</td>\n",
       "      <td>441.0</td>\n",
       "      <td>Longevity</td>\n",
       "    </tr>\n",
       "    <tr>\n",
       "      <th>3</th>\n",
       "      <td>A-Bomb</td>\n",
       "      <td>Marvel Comics</td>\n",
       "      <td>Male</td>\n",
       "      <td>Human</td>\n",
       "      <td>good</td>\n",
       "      <td>No Hair</td>\n",
       "      <td>yellow</td>\n",
       "      <td>Unknown</td>\n",
       "      <td>203.0</td>\n",
       "      <td>441.0</td>\n",
       "      <td>Super Strength</td>\n",
       "    </tr>\n",
       "    <tr>\n",
       "      <th>4</th>\n",
       "      <td>A-Bomb</td>\n",
       "      <td>Marvel Comics</td>\n",
       "      <td>Male</td>\n",
       "      <td>Human</td>\n",
       "      <td>good</td>\n",
       "      <td>No Hair</td>\n",
       "      <td>yellow</td>\n",
       "      <td>Unknown</td>\n",
       "      <td>203.0</td>\n",
       "      <td>441.0</td>\n",
       "      <td>Stamina</td>\n",
       "    </tr>\n",
       "  </tbody>\n",
       "</table>\n",
       "</div>"
      ],
      "text/plain": [
       "     Hero      Publisher Gender   Race Alignment Hair color Eye color  \\\n",
       "0  A-Bomb  Marvel Comics   Male  Human      good    No Hair    yellow   \n",
       "1  A-Bomb  Marvel Comics   Male  Human      good    No Hair    yellow   \n",
       "2  A-Bomb  Marvel Comics   Male  Human      good    No Hair    yellow   \n",
       "3  A-Bomb  Marvel Comics   Male  Human      good    No Hair    yellow   \n",
       "4  A-Bomb  Marvel Comics   Male  Human      good    No Hair    yellow   \n",
       "\n",
       "  Skin color  Height  Weight               Powers  \n",
       "0    Unknown   203.0   441.0  Accelerated Healing  \n",
       "1    Unknown   203.0   441.0           Durability  \n",
       "2    Unknown   203.0   441.0            Longevity  \n",
       "3    Unknown   203.0   441.0       Super Strength  \n",
       "4    Unknown   203.0   441.0              Stamina  "
      ]
     },
     "execution_count": 39,
     "metadata": {},
     "output_type": "execute_result"
    }
   ],
   "source": [
    "superhero = pd.merge(info, powers, on='Hero', how='inner')\n",
    "superhero.head()"
   ]
  },
  {
   "cell_type": "code",
   "execution_count": 40,
   "id": "ff937c8e",
   "metadata": {},
   "outputs": [
    {
     "name": "stdout",
     "output_type": "stream",
     "text": [
      "<class 'pandas.core.frame.DataFrame'>\n",
      "Int64Index: 4466 entries, 0 to 4465\n",
      "Data columns (total 11 columns):\n",
      " #   Column      Non-Null Count  Dtype  \n",
      "---  ------      --------------  -----  \n",
      " 0   Hero        4466 non-null   object \n",
      " 1   Publisher   4466 non-null   object \n",
      " 2   Gender      4466 non-null   object \n",
      " 3   Race        4466 non-null   object \n",
      " 4   Alignment   4466 non-null   object \n",
      " 5   Hair color  4466 non-null   object \n",
      " 6   Eye color   4466 non-null   object \n",
      " 7   Skin color  4466 non-null   object \n",
      " 8   Height      4466 non-null   float64\n",
      " 9   Weight      4466 non-null   float64\n",
      " 10  Powers      4466 non-null   object \n",
      "dtypes: float64(2), object(9)\n",
      "memory usage: 418.7+ KB\n"
     ]
    }
   ],
   "source": [
    "superhero.info()"
   ]
  },
  {
   "cell_type": "code",
   "execution_count": 41,
   "id": "074acf84",
   "metadata": {},
   "outputs": [],
   "source": [
    "#Saving merged df superhero to Data folder\n",
    "superhero.to_csv('Data/superhero_merged.csv', index=False)"
   ]
  },
  {
   "cell_type": "markdown",
   "id": "8b1ba0ee",
   "metadata": {},
   "source": [
    "1. Compare the average weight of super powers who have Super Speed to those who do not."
   ]
  },
  {
   "cell_type": "code",
   "execution_count": 42,
   "id": "fb9c9fba",
   "metadata": {},
   "outputs": [],
   "source": [
    "sspeed_heros = superhero[superhero['Powers'] == 'Super Speed']\n",
    "no_sspeed_heros = superhero[superhero['Powers'] != 'Super Speed']"
   ]
  },
  {
   "cell_type": "code",
   "execution_count": 43,
   "id": "6f1beddc",
   "metadata": {},
   "outputs": [],
   "source": [
    "avg_sspeed_weight = sspeed_heros['Weight'].mean().round()\n",
    "avg_no_sspeed_weight = no_sspeed_heros['Weight'].mean().round()"
   ]
  },
  {
   "cell_type": "code",
   "execution_count": 44,
   "id": "24c22fd3",
   "metadata": {},
   "outputs": [
    {
     "name": "stdout",
     "output_type": "stream",
     "text": [
      "The average weight of Heros with the Super Speed power is 129.0.\n",
      "The average weight of Heros without the Super Speed power is 126.0.\n"
     ]
    }
   ],
   "source": [
    "print(f'The average weight of Heros with the Super Speed power is {avg_sspeed_weight}.')\n",
    "print(f'The average weight of Heros without the Super Speed power is {avg_no_sspeed_weight}.')"
   ]
  },
  {
   "cell_type": "markdown",
   "id": "3f922819",
   "metadata": {},
   "source": [
    "2. What is the average height of heroes for each publisher?"
   ]
  },
  {
   "cell_type": "code",
   "execution_count": 45,
   "id": "ec36028c",
   "metadata": {},
   "outputs": [
    {
     "data": {
      "text/plain": [
       "Publisher\n",
       "DC Comics            188.0\n",
       "Dark Horse Comics    181.0\n",
       "George Lucas         155.0\n",
       "Image Comics         211.0\n",
       "Marvel Comics        201.0\n",
       "Shueisha             171.0\n",
       "Star Trek            182.0\n",
       "Team Epic TV         182.0\n",
       "Unknown              178.0\n",
       "Name: Height, dtype: float64"
      ]
     },
     "execution_count": 45,
     "metadata": {},
     "output_type": "execute_result"
    }
   ],
   "source": [
    "avg_height_per_publisher = superhero.groupby('Publisher')['Height'].mean().round()\n",
    "avg_height_per_publisher"
   ]
  },
  {
   "cell_type": "code",
   "execution_count": null,
   "id": "ca1e2ad3",
   "metadata": {},
   "outputs": [],
   "source": []
  }
 ],
 "metadata": {
  "kernelspec": {
   "display_name": "Python (dojo-env)",
   "language": "python",
   "name": "dojo-env"
  },
  "language_info": {
   "codemirror_mode": {
    "name": "ipython",
    "version": 3
   },
   "file_extension": ".py",
   "mimetype": "text/x-python",
   "name": "python",
   "nbconvert_exporter": "python",
   "pygments_lexer": "ipython3",
   "version": "3.9.15"
  },
  "toc": {
   "base_numbering": 1,
   "nav_menu": {},
   "number_sections": false,
   "sideBar": true,
   "skip_h1_title": false,
   "title_cell": "Table of Contents",
   "title_sidebar": "Contents",
   "toc_cell": false,
   "toc_position": {},
   "toc_section_display": true,
   "toc_window_display": false
  }
 },
 "nbformat": 4,
 "nbformat_minor": 5
}
